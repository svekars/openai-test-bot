{
 "cells": [
  {
   "cell_type": "markdown",
   "metadata": {},
   "source": [
    "# Overview\n",
    "\n",
    "This is a very basic Python bot that uses OpenAI API to ask questions about PyTorch and get answers from the PyTorch website. You can modify the script to query any other website. This is a very simple example just to get a taste of how easy it is to use OpenAI API. \n",
    "\n",
    "Execute each cell one after another and the last cell will invokes the conversation with the bot.\n",
    "Before you begin, you might need to set this notebook as Trusted in the upper right corner."
   ]
  },
  {
   "cell_type": "markdown",
   "metadata": {},
   "source": [
    "1. First, let's install the required dependencies:"
   ]
  },
  {
   "cell_type": "code",
   "execution_count": null,
   "metadata": {},
   "outputs": [],
   "source": [
    "!pip3 install openai bs4"
   ]
  },
  {
   "cell_type": "markdown",
   "metadata": {},
   "source": [
    "2. Next, let's import them in our notebook:"
   ]
  },
  {
   "cell_type": "code",
   "execution_count": null,
   "metadata": {},
   "outputs": [],
   "source": [
    "import openai\n",
    "import requests\n",
    "from bs4 import BeautifulSoup"
   ]
  },
  {
   "cell_type": "markdown",
   "metadata": {},
   "source": [
    "3. In this next cell, you need to add your OpenAI API key that you can obtain from your Open AI account. "
   ]
  },
  {
   "cell_type": "code",
   "execution_count": null,
   "metadata": {},
   "outputs": [],
   "source": [
    "openai.api_key = \"PASTE-YOUR-TOKEN-HERE\""
   ]
  },
  {
   "cell_type": "markdown",
   "metadata": {},
   "source": [
    "4. We will use the `text-davinci-003` model here to get the information for us. The prompt for our bot is \"What would you like to know \""
   ]
  },
  {
   "cell_type": "code",
   "execution_count": null,
   "metadata": {},
   "outputs": [],
   "source": [
    "model_engine = \"text-davinci-003\"\n",
    "model_prompt = (f\"What would you like to know about PyTorch?\")\n",
    "url = \"https://pytorch.org\""
   ]
  },
  {
   "cell_type": "markdown",
   "metadata": {},
   "source": [
    "5. This cell has the code that crawls the pytorch.org website for the question you ask and returns you the answer. We used the temperature 0.0 to minimize hallucinations. "
   ]
  },
  {
   "cell_type": "code",
   "execution_count": null,
   "metadata": {},
   "outputs": [],
   "source": [
    "response = requests.get(url)\n",
    "\n",
    "sp = BeautifulSoup(response.content, 'html.parser')\n",
    "questions = sp.find_all('h2', class_= 'question' )\n",
    "answers = sp.find_all('div', class_= 'answer')\n",
    "\n",
    "qs = {}\n",
    "for i in range(len(questions)):\n",
    "    question = questions[i].text.strip()\n",
    "    answer = answers[i].text.strip()\n",
    "    qs[question] = answer\n",
    "def answer_qs(question):\n",
    "    prompt = model_prompt + question\n",
    "    response = openai.Completion.create(\n",
    "        engine = model_engine,\n",
    "        prompt = prompt,\n",
    "        max_tokens = 1024,\n",
    "        n=1,\n",
    "        stop=None,\n",
    "        temperature=0.0,\n",
    "    )\n",
    "    answer = response.choices[0].text.strip()\n",
    "    return answer"
   ]
  },
  {
   "cell_type": "markdown",
   "metadata": {},
   "source": [
    "6. After executing all the previous cells, you can now invoke the bot:"
   ]
  },
  {
   "cell_type": "code",
   "execution_count": null,
   "metadata": {},
   "outputs": [],
   "source": [
    "while True:\n",
    "    user_input = input('What would you like to learn? (type \"exit\" to quit): ')\n",
    "    if user_input.lower() == 'exit':\n",
    "        break\n",
    "    if user_input in qs:\n",
    "        print(qs[user_input])\n",
    "    else:\n",
    "        print(answer_qs(user_input))"
   ]
  },
  {
   "cell_type": "code",
   "execution_count": null,
   "metadata": {},
   "outputs": [],
   "source": []
  }
 ],
 "metadata": {
  "kernelspec": {
   "display_name": "Python 3 (ipykernel)",
   "language": "python",
   "name": "python3"
  },
  "language_info": {
   "codemirror_mode": {
    "name": "ipython",
    "version": 3
   },
   "file_extension": ".py",
   "mimetype": "text/x-python",
   "name": "python",
   "nbconvert_exporter": "python",
   "pygments_lexer": "ipython3",
   "version": "3.9.12"
  },
  "vscode": {
   "interpreter": {
    "hash": "05f34a34d73b71652304030c1097be3a5720ea2447153dd6542d145a26b73181"
   }
  }
 },
 "nbformat": 4,
 "nbformat_minor": 2
}
